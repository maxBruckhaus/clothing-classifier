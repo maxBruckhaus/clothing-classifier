{
 "cells": [
  {
   "cell_type": "markdown",
   "id": "e36d776c",
   "metadata": {},
   "source": [
    "# Final Model (with dataset 02)"
   ]
  },
  {
   "cell_type": "code",
   "execution_count": 1,
   "id": "ddc163d6",
   "metadata": {},
   "outputs": [
    {
     "data": {
      "text/html": [
       "<div>\n",
       "<style scoped>\n",
       "    .dataframe tbody tr th:only-of-type {\n",
       "        vertical-align: middle;\n",
       "    }\n",
       "\n",
       "    .dataframe tbody tr th {\n",
       "        vertical-align: top;\n",
       "    }\n",
       "\n",
       "    .dataframe thead th {\n",
       "        text-align: right;\n",
       "    }\n",
       "</style>\n",
       "<table border=\"1\" class=\"dataframe\">\n",
       "  <thead>\n",
       "    <tr style=\"text-align: right;\">\n",
       "      <th></th>\n",
       "      <th>image</th>\n",
       "      <th>label</th>\n",
       "    </tr>\n",
       "  </thead>\n",
       "  <tbody>\n",
       "    <tr>\n",
       "      <th>0</th>\n",
       "      <td>ea7b6656-3f84-4eb3-9099-23e623fc1018</td>\n",
       "      <td>T-Shirt</td>\n",
       "    </tr>\n",
       "    <tr>\n",
       "      <th>1</th>\n",
       "      <td>ea2ffd4d-9b25-4ca8-9dc2-bd27f1cc59fa</td>\n",
       "      <td>T-Shirt</td>\n",
       "    </tr>\n",
       "    <tr>\n",
       "      <th>2</th>\n",
       "      <td>3b86d877-2b9e-4c8b-a6a2-1d87513309d0</td>\n",
       "      <td>Shoes</td>\n",
       "    </tr>\n",
       "    <tr>\n",
       "      <th>3</th>\n",
       "      <td>5d3a1404-697f-479f-9090-c1ecd0413d27</td>\n",
       "      <td>Shorts</td>\n",
       "    </tr>\n",
       "    <tr>\n",
       "      <th>4</th>\n",
       "      <td>b0c03127-9dfb-4573-8934-1958396937bf</td>\n",
       "      <td>Shirt</td>\n",
       "    </tr>\n",
       "    <tr>\n",
       "      <th>...</th>\n",
       "      <td>...</td>\n",
       "      <td>...</td>\n",
       "    </tr>\n",
       "    <tr>\n",
       "      <th>5265</th>\n",
       "      <td>female-casual-peach-color-jeans-female-casual-...</td>\n",
       "      <td>Pants</td>\n",
       "    </tr>\n",
       "    <tr>\n",
       "      <th>5266</th>\n",
       "      <td>lilac-jeans-wooden-background-lilac-jeans-wood...</td>\n",
       "      <td>Pants</td>\n",
       "    </tr>\n",
       "    <tr>\n",
       "      <th>5267</th>\n",
       "      <td>jeans-image-table-48097904</td>\n",
       "      <td>Pants</td>\n",
       "    </tr>\n",
       "    <tr>\n",
       "      <th>5268</th>\n",
       "      <td>jeans-white-background-classical-isolated-clos...</td>\n",
       "      <td>Pants</td>\n",
       "    </tr>\n",
       "    <tr>\n",
       "      <th>5269</th>\n",
       "      <td>jeans-image-table-48100476</td>\n",
       "      <td>Pants</td>\n",
       "    </tr>\n",
       "  </tbody>\n",
       "</table>\n",
       "<p>5270 rows × 2 columns</p>\n",
       "</div>"
      ],
      "text/plain": [
       "                                                  image    label\n",
       "0                  ea7b6656-3f84-4eb3-9099-23e623fc1018  T-Shirt\n",
       "1                  ea2ffd4d-9b25-4ca8-9dc2-bd27f1cc59fa  T-Shirt\n",
       "2                  3b86d877-2b9e-4c8b-a6a2-1d87513309d0    Shoes\n",
       "3                  5d3a1404-697f-479f-9090-c1ecd0413d27   Shorts\n",
       "4                  b0c03127-9dfb-4573-8934-1958396937bf    Shirt\n",
       "...                                                 ...      ...\n",
       "5265  female-casual-peach-color-jeans-female-casual-...    Pants\n",
       "5266  lilac-jeans-wooden-background-lilac-jeans-wood...    Pants\n",
       "5267                         jeans-image-table-48097904    Pants\n",
       "5268  jeans-white-background-classical-isolated-clos...    Pants\n",
       "5269                         jeans-image-table-48100476    Pants\n",
       "\n",
       "[5270 rows x 2 columns]"
      ]
     },
     "execution_count": 1,
     "metadata": {},
     "output_type": "execute_result"
    }
   ],
   "source": [
    "import pandas as pd\n",
    "\n",
    "df = pd.read_csv('images_4.csv')\n",
    "df"
   ]
  },
  {
   "cell_type": "code",
   "execution_count": 2,
   "id": "93fa1093",
   "metadata": {
    "scrolled": true
   },
   "outputs": [
    {
     "data": {
      "text/plain": [
       "array([13, 13, 10, ...,  7,  7,  7])"
      ]
     },
     "execution_count": 2,
     "metadata": {},
     "output_type": "execute_result"
    }
   ],
   "source": [
    "from sklearn.preprocessing import LabelEncoder\n",
    "\n",
    "le = LabelEncoder()\n",
    "labels = le.fit_transform(df.label)\n",
    "labels"
   ]
  },
  {
   "cell_type": "code",
   "execution_count": 3,
   "id": "a27a5846",
   "metadata": {},
   "outputs": [],
   "source": [
    "images = df.iloc[:, 0]"
   ]
  },
  {
   "cell_type": "markdown",
   "id": "junior-scratch",
   "metadata": {},
   "source": [
    "## Split data into train and validation using stratified shuffle split"
   ]
  },
  {
   "cell_type": "code",
   "execution_count": 4,
   "id": "9916e1e5",
   "metadata": {},
   "outputs": [],
   "source": [
    "from sklearn.model_selection import StratifiedShuffleSplit\n",
    "\n",
    "ss = StratifiedShuffleSplit(n_splits=1, test_size=0.1)\n",
    "for _, group_index in ss.split(images, labels):\n",
    "    group_x = images[group_index].to_numpy()\n",
    "    group_y = labels[group_index]"
   ]
  },
  {
   "cell_type": "code",
   "execution_count": 5,
   "id": "78eb944e",
   "metadata": {},
   "outputs": [],
   "source": [
    "from sklearn.model_selection import StratifiedShuffleSplit\n",
    "\n",
    "ss = StratifiedShuffleSplit(n_splits=1, test_size=0.2)\n",
    "for train_index, test_index in ss.split(images, labels):\n",
    "    train_x, test_x = images[train_index].to_numpy(), images[test_index].to_numpy()\n",
    "    train_y, test_y = labels[train_index], labels[test_index]"
   ]
  },
  {
   "cell_type": "code",
   "execution_count": 6,
   "id": "62edb7c3",
   "metadata": {},
   "outputs": [],
   "source": [
    "ss = StratifiedShuffleSplit(n_splits=1, test_size=0.2)\n",
    "for train_index, valid_index in ss.split(train_x, train_y):\n",
    "    train_x, valid_x = train_x[train_index], train_x[valid_index]\n",
    "    train_y, valid_y = train_y[train_index], train_y[valid_index]"
   ]
  },
  {
   "cell_type": "markdown",
   "id": "fb3f2438",
   "metadata": {},
   "source": [
    "## Get all images loaded in from sample and convert to tensor"
   ]
  },
  {
   "cell_type": "code",
   "execution_count": 7,
   "id": "3ddbd381",
   "metadata": {},
   "outputs": [],
   "source": [
    "import numpy as np\n",
    "from skimage.io import imread\n",
    "from skimage.transform import resize\n",
    "\n",
    "def get_images(path_list):\n",
    "    train_img = []\n",
    "    for filename in path_list:\n",
    "        path = 'images_compressed/' + filename + '.jpg'\n",
    "        img = imread(path, as_gray=True)\n",
    "        img = resize(img, (100, 100))\n",
    "        img /= 255.0\n",
    "        img = img.astype('float32')\n",
    "        train_img.append(img)\n",
    "    return np.asarray(train_img)"
   ]
  },
  {
   "cell_type": "code",
   "execution_count": 8,
   "id": "7f3c1d82",
   "metadata": {
    "scrolled": false
   },
   "outputs": [],
   "source": [
    "train_x_images = get_images(train_x)"
   ]
  },
  {
   "cell_type": "code",
   "execution_count": 9,
   "id": "50b3113b",
   "metadata": {},
   "outputs": [
    {
     "data": {
      "text/plain": [
       "(3372, 100, 100)"
      ]
     },
     "execution_count": 9,
     "metadata": {},
     "output_type": "execute_result"
    }
   ],
   "source": [
    "train_x_images.shape"
   ]
  },
  {
   "cell_type": "code",
   "execution_count": 10,
   "id": "7170de85",
   "metadata": {},
   "outputs": [],
   "source": [
    "valid_x_images = get_images(valid_x)\n",
    "test_x_images = get_images(test_x)"
   ]
  },
  {
   "cell_type": "code",
   "execution_count": 11,
   "id": "03257ecb",
   "metadata": {},
   "outputs": [],
   "source": [
    "import torch\n",
    "\n",
    "train_x_torch = torch.from_numpy(train_x_images).unsqueeze(dim=1)\n",
    "valid_x_torch = torch.from_numpy(valid_x_images).unsqueeze(dim=1)\n",
    "test_x_torch = torch.from_numpy(test_x_images).unsqueeze(dim=1)"
   ]
  },
  {
   "cell_type": "code",
   "execution_count": 12,
   "id": "788aa0db",
   "metadata": {},
   "outputs": [
    {
     "data": {
      "text/plain": [
       "torch.Size([3372, 1, 100, 100])"
      ]
     },
     "execution_count": 12,
     "metadata": {},
     "output_type": "execute_result"
    }
   ],
   "source": [
    "train_x_torch.shape"
   ]
  },
  {
   "cell_type": "code",
   "execution_count": 13,
   "id": "c0f31717",
   "metadata": {},
   "outputs": [
    {
     "data": {
      "text/plain": [
       "torch.Size([3372])"
      ]
     },
     "execution_count": 13,
     "metadata": {},
     "output_type": "execute_result"
    }
   ],
   "source": [
    "train_y_torch = torch.from_numpy(train_y)\n",
    "valid_y_torch = torch.from_numpy(valid_y)\n",
    "test_y_torch = torch.from_numpy(test_y)\n",
    "train_y_torch.shape"
   ]
  },
  {
   "cell_type": "markdown",
   "id": "appreciated-minneapolis",
   "metadata": {},
   "source": [
    "## Use gpu if available"
   ]
  },
  {
   "cell_type": "code",
   "execution_count": 14,
   "id": "2bda2b47",
   "metadata": {},
   "outputs": [],
   "source": [
    "if torch.cuda.is_available():\n",
    "    train_x_torch = train_x_torch.cuda()\n",
    "    train_y_torch = train_y_torch.cuda()\n",
    "    valid_x_torch = valid_x_torch.cuda()\n",
    "    valid_y_torch = valid_y_torch.cuda()\n",
    "    test_x_torch = test_x_torch.cuda()\n",
    "    test_y_torch = test_y_torch.cuda()\n",
    "    "
   ]
  },
  {
   "cell_type": "code",
   "execution_count": 15,
   "id": "08cc17ac",
   "metadata": {},
   "outputs": [],
   "source": [
    "train = list(zip(train_x_torch, train_y_torch.to(dtype=torch.long)))\n",
    "test = list(zip(test_x_torch, test_y_torch.to(dtype=torch.long)))\n",
    "valid = list(zip(valid_x_torch, valid_y_torch.to(dtype=torch.long)))"
   ]
  },
  {
   "cell_type": "code",
   "execution_count": 16,
   "id": "636cc5f4",
   "metadata": {},
   "outputs": [],
   "source": [
    "# put everything into a data loader because too much data for gpu\n",
    "\n",
    "from torch.utils.data import DataLoader\n",
    "\n",
    "trainloader = DataLoader(train, batch_size=16)\n",
    "testloader = DataLoader(test, batch_size=16)\n",
    "validloader = DataLoader(valid, batch_size=16)"
   ]
  },
  {
   "cell_type": "markdown",
   "id": "ce7b1cb5",
   "metadata": {},
   "source": [
    "## Create CNN model"
   ]
  },
  {
   "cell_type": "code",
   "execution_count": 86,
   "id": "8cab59c0",
   "metadata": {},
   "outputs": [],
   "source": [
    "from torch import nn\n",
    "\n",
    "class ConvNN(nn.Module):\n",
    "    def __init__(self):\n",
    "        super(ConvNN, self).__init__()\n",
    "        \n",
    "        self.cnn_layers = nn.Sequential (\n",
    "            # Conv 1\n",
    "            nn.Conv2d(1, 64, kernel_size=5, stride=1, padding=2),   # output = 100 x 100 x 512              \n",
    "            nn.ReLU(inplace=True),\n",
    "            nn.BatchNorm2d(64),  \n",
    "            nn.MaxPool2d(kernel_size=2, stride=2),                   # 50 x 50 x 512\n",
    "            nn.Dropout(),\n",
    "            # Conv 2\n",
    "            nn.Conv2d(64, 128, kernel_size=5, stride=1, padding=2),  \n",
    "            nn.ReLU(inplace=True),\n",
    "            nn.BatchNorm2d(128),                                   \n",
    "            nn.MaxPool2d(kernel_size=2, stride=2),                   # 25 X 25 X 512\n",
    "            nn.Dropout(),\n",
    "            # Conv 3\n",
    "            nn.Conv2d(128, 256, kernel_size=3, stride=1, padding=1), \n",
    "            nn.ReLU(inplace=True),  \n",
    "            nn.BatchNorm2d(256),                                    \n",
    "            nn.MaxPool2d(kernel_size=2, stride=2),                   # 12 X 12 X 512\n",
    "            nn.Dropout(),\n",
    "            # Conv 4\n",
    "            nn.Conv2d(256, 512, kernel_size=3, stride=1, padding=1), \n",
    "            nn.ReLU(inplace=True),\n",
    "            nn.BatchNorm2d(512),                                    \n",
    "            nn.MaxPool2d(kernel_size=2, stride=2),                   # 6 X 6 X 512\n",
    "            nn.Dropout()\n",
    "        )\n",
    "        \n",
    "        self.linear_layers = nn.Sequential(\n",
    "            nn.Linear(512 * 6 * 6, 15)\n",
    "        )\n",
    "        \n",
    "    # Defining the forward pass    \n",
    "    def forward(self, x):\n",
    "        x = self.cnn_layers(x)\n",
    "        x = x.view(x.size(0), -1)\n",
    "        x = self.linear_layers(x)\n",
    "        return x"
   ]
  },
  {
   "cell_type": "code",
   "execution_count": 87,
   "id": "4bfc6252",
   "metadata": {},
   "outputs": [
    {
     "name": "stdout",
     "output_type": "stream",
     "text": [
      "ConvNN(\n",
      "  (cnn_layers): Sequential(\n",
      "    (0): Conv2d(1, 64, kernel_size=(5, 5), stride=(1, 1), padding=(2, 2))\n",
      "    (1): ReLU(inplace=True)\n",
      "    (2): BatchNorm2d(64, eps=1e-05, momentum=0.1, affine=True, track_running_stats=True)\n",
      "    (3): MaxPool2d(kernel_size=2, stride=2, padding=0, dilation=1, ceil_mode=False)\n",
      "    (4): Dropout(p=0.5, inplace=False)\n",
      "    (5): Conv2d(64, 128, kernel_size=(5, 5), stride=(1, 1), padding=(2, 2))\n",
      "    (6): ReLU(inplace=True)\n",
      "    (7): BatchNorm2d(128, eps=1e-05, momentum=0.1, affine=True, track_running_stats=True)\n",
      "    (8): MaxPool2d(kernel_size=2, stride=2, padding=0, dilation=1, ceil_mode=False)\n",
      "    (9): Dropout(p=0.5, inplace=False)\n",
      "    (10): Conv2d(128, 256, kernel_size=(3, 3), stride=(1, 1), padding=(1, 1))\n",
      "    (11): ReLU(inplace=True)\n",
      "    (12): BatchNorm2d(256, eps=1e-05, momentum=0.1, affine=True, track_running_stats=True)\n",
      "    (13): MaxPool2d(kernel_size=2, stride=2, padding=0, dilation=1, ceil_mode=False)\n",
      "    (14): Dropout(p=0.5, inplace=False)\n",
      "    (15): Conv2d(256, 512, kernel_size=(3, 3), stride=(1, 1), padding=(1, 1))\n",
      "    (16): ReLU(inplace=True)\n",
      "    (17): BatchNorm2d(512, eps=1e-05, momentum=0.1, affine=True, track_running_stats=True)\n",
      "    (18): MaxPool2d(kernel_size=2, stride=2, padding=0, dilation=1, ceil_mode=False)\n",
      "    (19): Dropout(p=0.5, inplace=False)\n",
      "  )\n",
      "  (linear_layers): Sequential(\n",
      "    (0): Linear(in_features=18432, out_features=15, bias=True)\n",
      "  )\n",
      ")\n"
     ]
    }
   ],
   "source": [
    "from torch import optim\n",
    "\n",
    "model = ConvNN()\n",
    "optimizer = optim.Adam(model.parameters(), lr=0.0001)\n",
    "criterion = nn.CrossEntropyLoss()\n",
    "if torch.cuda.is_available():\n",
    "    model = model.cuda()\n",
    "    criterion = criterion.cuda()\n",
    "    \n",
    "print(model)"
   ]
  },
  {
   "cell_type": "markdown",
   "id": "expressed-indian",
   "metadata": {},
   "source": [
    "## Train and collect performance metrics over 100 epochs"
   ]
  },
  {
   "cell_type": "code",
   "execution_count": 88,
   "id": "00952669",
   "metadata": {
    "scrolled": true
   },
   "outputs": [
    {
     "name": "stdout",
     "output_type": "stream",
     "text": [
      "At epoch 0 loss = 2.75 train acc= 0.257 valid loss = 2.16 valid acc = 0.347\n",
      "At epoch 1 loss = 2.34 train acc= 0.335 valid loss = 1.99 valid acc = 0.434\n",
      "At epoch 2 loss = 2.03 train acc= 0.396 valid loss = 1.86 valid acc = 0.48\n",
      "At epoch 3 loss = 1.79 train acc= 0.453 valid loss = 1.92 valid acc = 0.5\n",
      "At epoch 4 loss = 1.64 train acc= 0.482 valid loss = 1.86 valid acc = 0.512\n",
      "At epoch 5 loss = 1.52 train acc= 0.504 valid loss = 2 valid acc = 0.499\n",
      "At epoch 6 loss = 1.43 train acc= 0.525 valid loss = 2.11 valid acc = 0.494\n",
      "At epoch 7 loss = 1.32 train acc= 0.544 valid loss = 2.1 valid acc = 0.512\n",
      "At epoch 8 loss = 1.19 train acc= 0.558 valid loss = 2.28 valid acc = 0.501\n",
      "At epoch 9 loss = 1.11 train acc= 0.59 valid loss = 2.4 valid acc = 0.502\n",
      "At epoch 10 loss = 1.07 train acc= 0.593 valid loss = 2.36 valid acc = 0.531\n",
      "At epoch 11 loss = 1.01 train acc= 0.611 valid loss = 2.32 valid acc = 0.545\n",
      "At epoch 12 loss = 0.908 train acc= 0.63 valid loss = 2.39 valid acc = 0.538\n",
      "At epoch 13 loss = 0.833 train acc= 0.638 valid loss = 2.52 valid acc = 0.549\n",
      "At epoch 14 loss = 0.797 train acc= 0.659 valid loss = 2.36 valid acc = 0.568\n",
      "At epoch 15 loss = 0.739 train acc= 0.659 valid loss = 2.36 valid acc = 0.558\n",
      "At epoch 16 loss = 0.678 train acc= 0.668 valid loss = 2.15 valid acc = 0.59\n",
      "At epoch 17 loss = 0.644 train acc= 0.677 valid loss = 2.48 valid acc = 0.579\n",
      "At epoch 18 loss = 0.557 train acc= 0.703 valid loss = 2.27 valid acc = 0.594\n",
      "At epoch 19 loss = 0.532 train acc= 0.699 valid loss = 2.29 valid acc = 0.607\n",
      "At epoch 20 loss = 0.475 train acc= 0.71 valid loss = 2.42 valid acc = 0.597\n",
      "At epoch 21 loss = 0.468 train acc= 0.733 valid loss = 2.42 valid acc = 0.614\n",
      "At epoch 22 loss = 0.407 train acc= 0.728 valid loss = 2.39 valid acc = 0.63\n",
      "At epoch 23 loss = 0.378 train acc= 0.735 valid loss = 2.48 valid acc = 0.622\n",
      "At epoch 24 loss = 0.319 train acc= 0.744 valid loss = 2.52 valid acc = 0.621\n",
      "At epoch 25 loss = 0.343 train acc= 0.76 valid loss = 2.23 valid acc = 0.641\n",
      "At epoch 26 loss = 0.278 train acc= 0.757 valid loss = 2.41 valid acc = 0.628\n",
      "At epoch 27 loss = 0.302 train acc= 0.761 valid loss = 2.28 valid acc = 0.65\n",
      "At epoch 28 loss = 0.254 train acc= 0.778 valid loss = 2.24 valid acc = 0.646\n",
      "At epoch 29 loss = 0.229 train acc= 0.794 valid loss = 2.45 valid acc = 0.635\n",
      "At epoch 30 loss = 0.241 train acc= 0.781 valid loss = 2.54 valid acc = 0.636\n",
      "At epoch 31 loss = 0.205 train acc= 0.79 valid loss = 2.39 valid acc = 0.65\n",
      "At epoch 32 loss = 0.196 train acc= 0.789 valid loss = 2.3 valid acc = 0.639\n",
      "At epoch 33 loss = 0.196 train acc= 0.796 valid loss = 2.37 valid acc = 0.643\n",
      "At epoch 34 loss = 0.181 train acc= 0.802 valid loss = 2.54 valid acc = 0.646\n",
      "At epoch 35 loss = 0.181 train acc= 0.796 valid loss = 2.56 valid acc = 0.658\n",
      "At epoch 36 loss = 0.159 train acc= 0.818 valid loss = 2.75 valid acc = 0.634\n",
      "At epoch 37 loss = 0.162 train acc= 0.811 valid loss = 2.34 valid acc = 0.648\n",
      "At epoch 38 loss = 0.16 train acc= 0.809 valid loss = 2.36 valid acc = 0.65\n",
      "At epoch 39 loss = 0.135 train acc= 0.812 valid loss = 2.49 valid acc = 0.654\n",
      "At epoch 40 loss = 0.124 train acc= 0.827 valid loss = 2.63 valid acc = 0.647\n",
      "At epoch 41 loss = 0.125 train acc= 0.821 valid loss = 2.65 valid acc = 0.646\n",
      "At epoch 42 loss = 0.137 train acc= 0.815 valid loss = 2.84 valid acc = 0.643\n",
      "Terminating early!\n"
     ]
    }
   ],
   "source": [
    "train_losses = []\n",
    "valid_losses = []\n",
    "ALLOWED_DROPS = 3\n",
    "drops = ALLOWED_DROPS # how many times would the validation accuracy fall before pulling the plug\n",
    "train_acc = []\n",
    "valid_acc = [0]\n",
    "\n",
    "\n",
    "epochs = 100\n",
    "for epoch in range(epochs):\n",
    "    train_loss = 0.\n",
    "    valid_loss = 0.\n",
    "    train_correct = 0\n",
    "    train_total = 0\n",
    "    valid_correct = 0\n",
    "    valid_total = 0\n",
    "    \n",
    "    model.train()\n",
    "    for images, labels in trainloader:\n",
    "        optimizer.zero_grad()\n",
    "        output = model(images)\n",
    "        loss = criterion(output, labels)\n",
    "        loss.backward()\n",
    "        optimizer.step()\n",
    "        train_loss += loss.item()\n",
    "        for i in range(len(labels)):\n",
    "            image = images[i].view(1, 1, 100, 100)\n",
    "            with torch.no_grad():\n",
    "                logps = model(image)\n",
    "            allprobs = torch.exp(logps)\n",
    "            prob = allprobs.tolist()[0]\n",
    "            hyp = prob.index(max(prob))\n",
    "            train_y = labels[i]\n",
    "            train_total += 1\n",
    "            if train_y.item() == hyp:\n",
    "                train_correct += 1\n",
    "                \n",
    "    train_losses.append(train_loss/len(trainloader))\n",
    "    \n",
    "    model.eval()\n",
    "    for images, labels in validloader:\n",
    "        output = model(images)\n",
    "        loss = criterion(output, labels)\n",
    "        valid_loss += loss.item()\n",
    "        for i in range(len(labels)):\n",
    "            image = images[i].view(1, 1, 100, 100)\n",
    "            with torch.no_grad():\n",
    "                logps = model(image)\n",
    "            allprobs = torch.exp(logps)\n",
    "            prob = allprobs.tolist()[0]\n",
    "            hyp = prob.index(max(prob))\n",
    "            valid_y = labels[i]\n",
    "            valid_total += 1\n",
    "            if valid_y.item() == hyp:\n",
    "                valid_correct += 1\n",
    "                \n",
    "    valid_losses.append(valid_loss/len(validloader))\n",
    "    train_acc.append(train_correct/train_total)\n",
    "    valid_acc.append(valid_correct/valid_total)\n",
    "    \n",
    "    print('At epoch', epoch, 'loss =', '%.3g'%(train_loss/len(trainloader)), 'train acc=', '%.3g'%(train_correct/train_total), 'valid loss =', '%.3g'%(valid_loss/len(validloader)), 'valid acc =', '%.3g'%(valid_correct/valid_total))\n",
    "    \n",
    "    if valid_acc[-1] <= valid_acc[-2]:\n",
    "        drops -= 1\n",
    "        if drops == 0:\n",
    "            print('Terminating early!')\n",
    "            break\n",
    "    else:\n",
    "        drops = ALLOWED_DROPS"
   ]
  },
  {
   "cell_type": "code",
   "execution_count": 76,
   "id": "92a54bd0",
   "metadata": {},
   "outputs": [
    {
     "name": "stdout",
     "output_type": "stream",
     "text": [
      "0.6612903225806451\n"
     ]
    }
   ],
   "source": [
    "correct = 0.\n",
    "total = 0.\n",
    "\n",
    "hyps = []\n",
    "correct_labels = []\n",
    "\n",
    "for images, labels in testloader:\n",
    "    for i in range(len(labels)):\n",
    "        image = images[i].view(1, 1, 100, 100)\n",
    "        with torch.no_grad():\n",
    "            logps = model(image)\n",
    "        allprobs = torch.exp(logps)\n",
    "        prob = allprobs.tolist()[0]\n",
    "        hyp = prob.index(max(prob))\n",
    "        hyps.append(hyp)\n",
    "        test_y = labels[i]\n",
    "        total += 1\n",
    "        correct_labels.append(test_y.item())\n",
    "        if test_y.item() == hyp:\n",
    "            correct += 1\n",
    "\n",
    "print(correct/total)"
   ]
  },
  {
   "cell_type": "markdown",
   "id": "white-detective",
   "metadata": {},
   "source": [
    "## 69% accuracy"
   ]
  },
  {
   "cell_type": "code",
   "execution_count": 70,
   "id": "unusual-thesaurus",
   "metadata": {},
   "outputs": [
    {
     "name": "stdout",
     "output_type": "stream",
     "text": [
      "              precision    recall  f1-score   support\n",
      "\n",
      "      Blazer       0.62      0.23      0.33        22\n",
      "      Blouse       0.00      0.00      0.00         5\n",
      "       Dress       0.62      0.63      0.63        71\n",
      "         Hat       0.62      0.44      0.52        34\n",
      "      Hoodie       0.62      0.25      0.36        20\n",
      "  Longsleeve       0.71      0.61      0.65       140\n",
      "     Outwear       0.57      0.53      0.55        62\n",
      "       Pants       0.84      0.89      0.86       159\n",
      "        Polo       0.58      0.29      0.39        24\n",
      "       Shirt       0.49      0.73      0.59       113\n",
      "       Shoes       0.82      0.83      0.82        86\n",
      "      Shorts       0.76      0.68      0.72        62\n",
      "       Skirt       0.75      0.29      0.42        31\n",
      "     T-Shirt       0.74      0.89      0.81       202\n",
      "  Undershirt       0.62      0.43      0.51        23\n",
      "\n",
      "    accuracy                           0.69      1054\n",
      "   macro avg       0.62      0.51      0.54      1054\n",
      "weighted avg       0.70      0.69      0.68      1054\n",
      "\n"
     ]
    }
   ],
   "source": [
    "from sklearn.metrics import classification_report\n",
    "\n",
    "print(classification_report(correct_labels, hyps, target_names=['Blazer', 'Blouse', 'Dress', 'Hat', 'Hoodie', 'Longsleeve',\n",
    "       'Outwear', 'Pants', 'Polo', 'Shirt', 'Shoes', 'Shorts', 'Skirt',\n",
    "       'T-Shirt', 'Undershirt']))"
   ]
  },
  {
   "cell_type": "markdown",
   "id": "impressed-authentication",
   "metadata": {},
   "source": [
    "## Examine change in loss/accuracy over time"
   ]
  },
  {
   "cell_type": "code",
   "execution_count": 71,
   "id": "wired-handbook",
   "metadata": {},
   "outputs": [
    {
     "data": {
      "text/plain": [
       "<matplotlib.legend.Legend at 0x1db205bbbc8>"
      ]
     },
     "execution_count": 71,
     "metadata": {},
     "output_type": "execute_result"
    },
    {
     "data": {
      "image/png": "[encoded data removed]",
      "text/plain": [
       "<Figure size 432x288 with 1 Axes>"
      ]
     },
     "metadata": {
      "needs_background": "light"
     },
     "output_type": "display_data"
    }
   ],
   "source": [
    "import matplotlib.pyplot as plt\n",
    "plt.plot(train_losses, label='Training loss')\n",
    "plt.plot(valid_losses, label='Validation loss')\n",
    "plt.xlabel(\"Epochs\")\n",
    "plt.ylabel(\"Loss\")\n",
    "plt.legend(frameon=False)"
   ]
  },
  {
   "cell_type": "code",
   "execution_count": 72,
   "id": "liked-chance",
   "metadata": {},
   "outputs": [
    {
     "data": {
      "text/plain": [
       "<matplotlib.legend.Legend at 0x1db21a8b9c8>"
      ]
     },
     "execution_count": 72,
     "metadata": {},
     "output_type": "execute_result"
    },
    {
     "data": {
      "image/png": "[encoded data removed]",
      "text/plain": [
       "<Figure size 432x288 with 1 Axes>"
      ]
     },
     "metadata": {
      "needs_background": "light"
     },
     "output_type": "display_data"
    }
   ],
   "source": [
    "plt.plot(train_acc, label='Training Accuracy')\n",
    "plt.plot(valid_acc[1:], label='Validation Accuracy')\n",
    "plt.title(\"Accuracy\")\n",
    "plt.xlabel(\"Epochs\")\n",
    "plt.ylabel(\"Accuracy\")\n",
    "plt.legend(frameon=False)"
   ]
  },
  {
   "cell_type": "code",
   "execution_count": null,
   "id": "9923bf40",
   "metadata": {},
   "outputs": [],
   "source": []
  }
 ],
 "metadata": {
  "kernelspec": {
   "display_name": "Python 3",
   "language": "python",
   "name": "python3"
  },
  "language_info": {
   "codemirror_mode": {
    "name": "ipython",
    "version": 3
   },
   "file_extension": ".py",
   "mimetype": "text/x-python",
   "name": "python",
   "nbconvert_exporter": "python",
   "pygments_lexer": "ipython3",
   "version": "3.9.1"
  }
 },
 "nbformat": 4,
 "nbformat_minor": 5
}
