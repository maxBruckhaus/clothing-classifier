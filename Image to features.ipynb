{
 "cells": [
  {
   "cell_type": "code",
   "execution_count": null,
   "id": "exciting-grant",
   "metadata": {},
   "outputs": [],
   "source": [
    "import pandas as pd\n",
    "from skimage.io import imread, imshow\n",
    "from skimage.transform import resize\n",
    "import numpy as np\n",
    "\n",
    "df = pd.read_csv('images_2.csv')\n",
    "\n",
    "for img_code in df['image']:\n",
    "    img_path = 'images_original/' + img_code + '.jpg'\n",
    "    img = imread(img_path, as_gray=True)\n",
    "    resized_img = resize(img, (100, 100))\n",
    "    img_features = np.reshape(resized_img, (100*100))\n",
    "    # add code to add img_features to correct line of dataframe\n",
    "    \n",
    "    \n",
    "# img_features will be a length 10000 array of numbers that we need to add to the dataframe, not sure what our column\n",
    "# labels need to be or how to add each number to its own column but this is the code to extract the pixel features\n",
    "# from each image after resizing.. not sure how long this will take to execute--my laptop ran for a few minutes before I\n",
    "# stopped it--might take awhile"
   ]
  }
 ],
 "metadata": {
  "kernelspec": {
   "display_name": "Python 3",
   "language": "python",
   "name": "python3"
  },
  "language_info": {
   "codemirror_mode": {
    "name": "ipython",
    "version": 3
   },
   "file_extension": ".py",
   "mimetype": "text/x-python",
   "name": "python",
   "nbconvert_exporter": "python",
   "pygments_lexer": "ipython3",
   "version": "3.9.1"
  }
 },
 "nbformat": 4,
 "nbformat_minor": 5
}
